{
 "cells": [
  {
   "cell_type": "code",
   "execution_count": 13,
   "id": "39f16286-4d0d-4e74-b212-f11231e6d6b8",
   "metadata": {},
   "outputs": [],
   "source": [
    "import time\n",
    "\n",
    "from concurrent.futures import ThreadPoolExecutor\n",
    "\n",
    "import numpy as np\n",
    "import scipy.stats as stats\n",
    "import plotly_express as px\n",
    "from ipywidgets import interact_manual"
   ]
  },
  {
   "cell_type": "code",
   "execution_count": 2,
   "id": "215bffea-e83b-469f-95f0-66cd43e093aa",
   "metadata": {},
   "outputs": [],
   "source": [
    "TIME_SCALE_FACTOR = 1000"
   ]
  },
  {
   "cell_type": "code",
   "execution_count": 3,
   "id": "ceb27b83-db5b-46f7-919d-b1713c6f09a0",
   "metadata": {},
   "outputs": [],
   "source": [
    "class Request:\n",
    "    def __init__(self, processing_time):\n",
    "        self.processing_time = processing_time\n",
    "        self.queue_start_time = 0\n",
    "        self.queue_end_time = 0\n",
    "        self.queue_time = 0\n",
    "        \n",
    "    def queue(self):\n",
    "        self.queue_start_time = time.time()\n",
    "    \n",
    "    def dequeue(self):\n",
    "        self.queue_end_time = time.time()\n",
    "        self.queue_time = self.queue_end_time - self.queue_start_time\n",
    "    \n",
    "    def process(self):\n",
    "        self.dequeue()\n",
    "        time.sleep(self.processing_time / TIME_SCALE_FACTOR)"
   ]
  },
  {
   "cell_type": "code",
   "execution_count": 4,
   "id": "30b184e6-0103-44f2-b18f-7dac089ec33b",
   "metadata": {},
   "outputs": [],
   "source": [
    "class RequestGenerator:\n",
    "    def __init__(\n",
    "        self,\n",
    "        average_arrival_time,\n",
    "        average_processing_time,\n",
    "        arrival_distribution=\"poisson\",\n",
    "        processing_time_distribution=\"gaussian\",\n",
    "        num_requests=1000):\n",
    "\n",
    "        self.num_requests = num_requests\n",
    "        self.requests_generated = 0\n",
    "\n",
    "        if arrival_distribution == \"poisson\":\n",
    "            self.request_arrival_times = \\\n",
    "                stats.poisson.rvs(average_arrival_time, size=num_requests)\n",
    "        elif arrival_distribution == \"uniform\":\n",
    "            # assuming min arrival time to be 0.2\n",
    "            # distribution spans [loc, loc + scale]\n",
    "            self.request_arrival_times = \\\n",
    "                stats.uniform.rvs(loc=0.2, scale=2 * (average_arrival_time - 0.2), size=num_requests)\n",
    "        elif arrival_distribution == \"gaussian\":\n",
    "            # assuming min arrival time to be 0.2\n",
    "            # this is modeled by assuming mu - 3 * sigma is equal to 0.2\n",
    "            # the ressidual points are clipped\n",
    "            self.request_arrival_times = \\\n",
    "                stats.norm.rvs(loc=average_arrival_time, scale=(average_arrival_time - 0.2) / 3, size=num_requests)\n",
    "            self.request_arrival_times = np.clip(self.request_arrival_times, 0.2, np.inf)\n",
    "        elif arrival_distribution == \"constant\":\n",
    "            self.request_arrival_times = \\\n",
    "                [average_arrival_time for x in range(num_requests)]\n",
    "        else:\n",
    "            raise ValueError()\n",
    "\n",
    "        if processing_time_distribution == \"uniform\":\n",
    "            # assuming min processing time to be 0\n",
    "            # distribution spans [loc, loc + scale]\n",
    "            self.request_processing_times = \\\n",
    "                stats.uniform.rvs(loc=0, scale=2 * average_processing_time, size=num_requests)\n",
    "        elif processing_time_distribution == \"gaussian\":\n",
    "            # assuming min processing time to be 0\n",
    "            # this is modeled by assuming mu - 3 * sigma is equal to 0\n",
    "            # the ressidual points are clipped\n",
    "            self.request_processing_times = \\\n",
    "                stats.norm.rvs(loc=average_processing_time, scale=average_processing_time / 3, size=num_requests)\n",
    "            self.request_processing_times = np.clip(self.request_processing_times, 0, np.inf)\n",
    "        elif processing_time_distribution == \"constant\":\n",
    "            self.request_processing_times = \\\n",
    "                [average_processing_time for x in range(num_requests)]\n",
    "        else:\n",
    "            raise ValueError()\n",
    "            \n",
    "    def __iter__(self):\n",
    "        return self\n",
    "    \n",
    "    def __next__(self):\n",
    "        if self.requests_generated < self.num_requests:\n",
    "            time.sleep(self.request_arrival_times[self.requests_generated] / TIME_SCALE_FACTOR)\n",
    "            request = Request(self.request_processing_times[self.requests_generated])\n",
    "            self.requests_generated += 1\n",
    "            return request\n",
    "        else:\n",
    "            raise StopIteration"
   ]
  },
  {
   "cell_type": "code",
   "execution_count": 5,
   "id": "10bd199d-8bf5-47ee-8828-eae43b5eccf6",
   "metadata": {},
   "outputs": [],
   "source": [
    "class Server:\n",
    "    def __init__(self, num_workers=1):\n",
    "        self.executor = ThreadPoolExecutor(max_workers=num_workers)\n",
    "        \n",
    "    def process_request(self, request):\n",
    "        self.executor.submit(lambda: request.process())\n",
    "    \n",
    "    def shutdown(self):\n",
    "        self.executor.shutdown()"
   ]
  },
  {
   "cell_type": "code",
   "execution_count": 8,
   "id": "ec721b1a-773a-4069-94ff-e8e3b260f42f",
   "metadata": {
    "tags": []
   },
   "outputs": [],
   "source": [
    "def visualize_wait_time(\n",
    "        arrival_distribution=\"poisson\",\n",
    "        processing_time_distribution=\"gaussian\"):\n",
    "\n",
    "    avg_queuing_times = []\n",
    "\n",
    "    for utilization_factor in np.linspace(0, 2, 10):\n",
    "        average_arrival_time = 1\n",
    "        average_processing_time = utilization_factor\n",
    "\n",
    "        requests = []\n",
    "        server = Server()\n",
    "        for request in RequestGenerator(\n",
    "                average_arrival_time,\n",
    "                average_processing_time,\n",
    "                arrival_distribution,\n",
    "                processing_time_distribution):\n",
    "            requests.append(request)\n",
    "            request.queue()\n",
    "            server.process_request(request)\n",
    "\n",
    "        server.shutdown()\n",
    "        avg_queuing_times.append((utilization_factor, np.mean([x.queue_time for x in requests])))\n",
    "\n",
    "    px.line(x=[x for x, _ in avg_queuing_times], y=[y for _, y in avg_queuing_times]).show()"
   ]
  },
  {
   "cell_type": "code",
   "execution_count": 14,
   "id": "a28bed0a-6cca-458d-9bf6-7a09e09030ae",
   "metadata": {},
   "outputs": [
    {
     "data": {
      "application/vnd.jupyter.widget-view+json": {
       "model_id": "73492299b1ef4c628e9db2aa945b36e0",
       "version_major": 2,
       "version_minor": 0
      },
      "text/plain": [
       "interactive(children=(Dropdown(description='arrival_distribution', options=('poisson', 'uniform', 'constant', …"
      ]
     },
     "metadata": {},
     "output_type": "display_data"
    },
    {
     "data": {
      "text/plain": [
       "<function __main__.visualize_wait_time(arrival_distribution='poisson', processing_time_distribution='gaussian')>"
      ]
     },
     "execution_count": 14,
     "metadata": {},
     "output_type": "execute_result"
    }
   ],
   "source": [
    "interact_manual(\n",
    "    visualize_wait_time,\n",
    "    arrival_distribution=[\"poisson\", \"uniform\", \"constant\", \"gaussian\"],\n",
    "    processing_time_distribution=[\"uniform\", \"constant\", \"gaussian\"])"
   ]
  },
  {
   "cell_type": "code",
   "execution_count": null,
   "id": "41c21494-d662-4f7c-a75d-d35f352a7fc1",
   "metadata": {},
   "outputs": [],
   "source": []
  }
 ],
 "metadata": {
  "kernelspec": {
   "display_name": "Python 3 (ipykernel)",
   "language": "python",
   "name": "python3"
  },
  "language_info": {
   "codemirror_mode": {
    "name": "ipython",
    "version": 3
   },
   "file_extension": ".py",
   "mimetype": "text/x-python",
   "name": "python",
   "nbconvert_exporter": "python",
   "pygments_lexer": "ipython3",
   "version": "3.9.13"
  }
 },
 "nbformat": 4,
 "nbformat_minor": 5
}
